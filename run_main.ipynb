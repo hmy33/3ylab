{
 "cells": [
  {
   "cell_type": "code",
   "execution_count": null,
   "metadata": {},
   "outputs": [],
   "source": [
    "import datetime\n",
    "from db import DB\n",
    "db = DB()"
   ]
  },
  {
   "cell_type": "code",
   "execution_count": null,
   "metadata": {},
   "outputs": [],
   "source": [
    "import prep_download\n",
    "import prep_parse\n",
    "\n",
    "from_date = datetime.date(2019,12,9)\n",
    "# prep_download.download_daily(db, from_date)\n",
    "# prep_parse.parse_daily(db, from_date)\n",
    "\n",
    "# prep_download.download_weekly(db, from_date)\n",
    "# prep_parse.parse_weekly(db, from_date)\n",
    "\n",
    "# prep_download.download_monthly(from_date)\n",
    "# prep_parse.parse_monthly(db, from_date)\n",
    "\n",
    "## https://mops.twse.com.tw/server-java/FileDownLoad?step=9&fileName=tifrs-2019Q3.zip&filePath=/home/html/nas/ifrs/2019/\n",
    "# prep_download.download_quarterly(db, from_date)\n",
    "# prep_parse.parse_quarterly(db, from_date)"
   ]
  },
  {
   "cell_type": "code",
   "execution_count": null,
   "metadata": {},
   "outputs": [],
   "source": [
    "import matplotlib as mpl\n",
    "import matplotlib.pyplot as plt\n",
    "mpl.style.use('fivethirtyeight') # fivethirtyeight, fast\n",
    "plt.rcParams['font.sans-serif'] = ['Microsoft JhengHei'] # font to handle chinese\n",
    "%matplotlib inline"
   ]
  },
  {
   "cell_type": "code",
   "execution_count": null,
   "metadata": {
    "scrolled": false
   },
   "outputs": [],
   "source": [
    "from analysis_fundamental import dashboard as fundamental\n",
    "from analysis_technical import dashboard as technical\n",
    "from analysis_chip import dashboard as chip\n",
    "\n",
    "stock_id = '2317'\n",
    "technical(stock_id, db)\n",
    "chip(stock_id, db, 20)\n",
    "fundamental(stock_id, db)"
   ]
  },
  {
   "cell_type": "code",
   "execution_count": null,
   "metadata": {},
   "outputs": [],
   "source": [
    "import strategy\n",
    "stock_info = db.get_stock_info()[['stock_name', 'industry']]\n",
    "stock_data = strategy.prepare_stock_data(db)"
   ]
  },
  {
   "cell_type": "code",
   "execution_count": null,
   "metadata": {},
   "outputs": [],
   "source": [
    "date = datetime.date(2019,11,8) # modify\n",
    "df = strategy.get_stock_data_by_date(stock_info, stock_data, date)\n",
    "df[ (df['EPS4季'] > 1) & (df['本益比'] < 10) & (df['眼光費'] < 0) ] # modify"
   ]
  },
  {
   "cell_type": "code",
   "execution_count": null,
   "metadata": {},
   "outputs": [],
   "source": [
    "def backtest(stock_info, stock_data):\n",
    "    for stock_id in stock_info.index:\n",
    "        stock_name = stock_info.loc[stock_id, 'stock_name'] + ',' + stock_id\n",
    "        df_daily = stock_data[stock_id]\n",
    "        region = []\n",
    "        get = False\n",
    "        for i in range(len(df_daily.index)):\n",
    "            if df_daily.iloc[i]['EPS4季'] > 1 and df_daily.iloc[i]['本益比'] < 10 and df_daily.iloc[i]['眼光費'] < 0:\n",
    "                if not get:\n",
    "                    region.append([df_daily.index[i]])\n",
    "                    get = True\n",
    "                continue\n",
    "            if get:\n",
    "                region[-1].append(df_daily.index[i - 1])\n",
    "                get = False\n",
    "\n",
    "        if len(region) > 0:\n",
    "            if len(region[-1]) == 1:\n",
    "                region[-1].append(df_daily.index[-1])\n",
    "            ax = df_daily[['close']].plot(grid=True, title=stock_name, figsize=(10,4))\n",
    "            for xmin, xmax in region:\n",
    "                ax.axvspan(xmin, xmax, color='red', alpha=0.5)\n",
    "\n",
    "backtest(stock_info, stock_data)"
   ]
  }
 ],
 "metadata": {
  "kernelspec": {
   "display_name": "Python 3",
   "language": "python",
   "name": "python3"
  },
  "language_info": {
   "codemirror_mode": {
    "name": "ipython",
    "version": 3
   },
   "file_extension": ".py",
   "mimetype": "text/x-python",
   "name": "python",
   "nbconvert_exporter": "python",
   "pygments_lexer": "ipython3",
   "version": "3.6.4"
  }
 },
 "nbformat": 4,
 "nbformat_minor": 2
}
