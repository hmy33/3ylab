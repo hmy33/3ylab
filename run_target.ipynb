{
 "cells": [
  {
   "cell_type": "code",
   "execution_count": 7,
   "metadata": {},
   "outputs": [],
   "source": [
    "import requests\n",
    "import re\n",
    "import os\n",
    "\n",
    "from bs4 import BeautifulSoup\n",
    "import pandas as pd\n",
    "\n",
    "import prep_parse\n",
    "import utility as util"
   ]
  },
  {
   "cell_type": "code",
   "execution_count": 2,
   "metadata": {},
   "outputs": [],
   "source": [
    "### 1.台股權值100大排行榜\n",
    "url = 'http://jow.win168.com.tw/z/zm/zmd/zmdb.djhtm'\n",
    "html = requests.get(url)\n",
    "html.encoding = 'big5'\n",
    "sp = BeautifulSoup(html.text, 'html.parser')\n",
    "stock_ids = []\n",
    "stock_names = []\n",
    "stock_ratios = []\n",
    "for item in sp.select('.t3t1 a'):\n",
    "    stock = item.text\n",
    "    match = re.search(r'^\\d{4}', stock)\n",
    "    stock_id = match.group()\n",
    "    stock_name = stock.replace(stock_id, '')\n",
    "    stock_ratio = item.parent.next_sibling.next_sibling.next_sibling.next_sibling.text.replace('%', '')\n",
    "    stock_ids.append(stock_id)\n",
    "    stock_names.append(stock_name)\n",
    "    stock_ratios.append(stock_ratio)\n",
    "df_taiwan100 = pd.DataFrame({'stock_id': stock_ids, 'stock_name': stock_names, 'stock_ratio': stock_ratios})"
   ]
  },
  {
   "cell_type": "code",
   "execution_count": 3,
   "metadata": {},
   "outputs": [],
   "source": [
    "### 2.MSCI台股指數成分股\n",
    "url = 'http://jow.win168.com.tw/z/zm/zmd/zmdc.djhtm'\n",
    "html = requests.get(url)\n",
    "html.encoding = 'big5'\n",
    "sp = BeautifulSoup(html.text, 'html.parser')\n",
    "stock_ids = []\n",
    "stock_names = []\n",
    "for item in sp.select('.t3t1 a'):\n",
    "    stock = item.text\n",
    "    match = re.search(r'^\\d{4}', stock)\n",
    "    stock_id = match.group()\n",
    "    stock_name = stock.replace(stock_id, '')\n",
    "    stock_ids.append(stock_id)\n",
    "    stock_names.append(stock_name)\n",
    "df_msci = pd.DataFrame({'stock_id': stock_ids, 'stock_name': stock_names})"
   ]
  },
  {
   "cell_type": "code",
   "execution_count": 4,
   "metadata": {},
   "outputs": [
    {
     "name": "stdout",
     "output_type": "stream",
     "text": [
      "1&2 (83, 3)\n"
     ]
    }
   ],
   "source": [
    "### 交集\n",
    "df_leader = pd.merge(df_taiwan100, df_msci, on=['stock_id', 'stock_name'], how='inner')\n",
    "print('1&2', df_leader.shape)"
   ]
  },
  {
   "cell_type": "code",
   "execution_count": 5,
   "metadata": {},
   "outputs": [],
   "source": [
    "def get_stock_info():\n",
    "    # res = requests.get('http://dts.twse.com.tw/opendata/t187ap03_L.csv')\n",
    "    # res.encoding='big5'\n",
    "\n",
    "    # read file\n",
    "    file_path = os.path.join('download', 'stock_info', 't187ap03_L.csv')\n",
    "    if not os.path.exists(file_path):\n",
    "        print('**ERROR:', file_path, 'does not exist')\n",
    "        return None\n",
    "    df = pd.read_csv(file_path, encoding='utf-8')\n",
    "    \n",
    "    # delete unused rows\n",
    "    df = df.astype(str)\n",
    "    df = df[df['公司代號'].apply(lambda s: len(s) == 4)]\n",
    "    # reserve used columns\n",
    "    df = df[['公司代號','產業別']]\n",
    "    df = df.rename(columns={'公司代號':'stock_id', '產業別':'industry'})\n",
    "    \n",
    "    return df "
   ]
  },
  {
   "cell_type": "code",
   "execution_count": 8,
   "metadata": {},
   "outputs": [
    {
     "name": "stdout",
     "output_type": "stream",
     "text": [
      "3 (65, 4)\n"
     ]
    }
   ],
   "source": [
    "### 3.非金融股\n",
    "stock_info = get_stock_info()\n",
    "df = pd.merge(df_leader, stock_info, on=['stock_id'], how='inner')\n",
    "df_not_bank = df[df['industry'] != '金融保險業']\n",
    "print('3', df_not_bank.shape)"
   ]
  },
  {
   "cell_type": "code",
   "execution_count": null,
   "metadata": {},
   "outputs": [],
   "source": [
    "### 4.低股價\n",
    "# price_limit = 100\n",
    "# daily_price = prep_parse.parse_daily_price_all(util.get_last_update_date())\n",
    "\n",
    "# df = df_not_bank.set_index('stock_id')\n",
    "# df['fit'] = False\n",
    "# for stock_id in df.index:\n",
    "#     if daily_price.loc[stock_id, 'close'] < price_limit:\n",
    "#         df.loc[stock_id, 'fit'] = True\n",
    "\n",
    "# df = df[df['fit']]\n",
    "# df_under_pirce_limit = df.drop('fit', axis=1)\n",
    "# print('4', df_under_pirce_limit.shape)"
   ]
  },
  {
   "cell_type": "code",
   "execution_count": 10,
   "metadata": {},
   "outputs": [],
   "source": [
    "### 同產業類別放一起\n",
    "df = df_not_bank.sort_values(by='industry')\n",
    "\n",
    "### 存檔\n",
    "df.to_csv('target_ori.csv', index=False, encoding='utf-8-sig')"
   ]
  }
 ],
 "metadata": {
  "kernelspec": {
   "display_name": "Python 3",
   "language": "python",
   "name": "python3"
  },
  "language_info": {
   "codemirror_mode": {
    "name": "ipython",
    "version": 3
   },
   "file_extension": ".py",
   "mimetype": "text/x-python",
   "name": "python",
   "nbconvert_exporter": "python",
   "pygments_lexer": "ipython3",
   "version": "3.6.4"
  }
 },
 "nbformat": 4,
 "nbformat_minor": 2
}
